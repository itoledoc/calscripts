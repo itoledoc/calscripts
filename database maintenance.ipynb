{
 "metadata": {
  "name": "",
  "signature": "sha256:65ca1f09f8dca2738d4e8df35a830340d7115e88714c986450d001b6a7fa8bdb"
 },
 "nbformat": 3,
 "nbformat_minor": 0,
 "worksheets": [
  {
   "cells": [
    {
     "cell_type": "markdown",
     "metadata": {},
     "source": [
      "# Database Maintenance\n",
      "\n",
      "## Initialize\n",
      "Initial import of libraries and establish connection with Archive"
     ]
    },
    {
     "cell_type": "code",
     "collapsed": false,
     "input": [
      "import cx_Oracle\n",
      "import pandas as pd\n",
      "import numpy as np\n",
      "import ephem\n",
      "\n",
      "from astroML.plotting import plot_tissot_ellipse\n",
      "\n",
      "pd.options.display.width = 200\n",
      "pd.options.display.max_columns = 100"
     ],
     "language": "python",
     "metadata": {},
     "outputs": [],
     "prompt_number": 1
    },
    {
     "cell_type": "markdown",
     "metadata": {},
     "source": [
      "## def calc_ra:\n",
      "Convert RA from seg. to deg."
     ]
    },
    {
     "cell_type": "code",
     "collapsed": false,
     "input": [
      "def calc_ra(h, m, s):\n",
      "    ra = h * 15. + m * 15. / 60 + s * 15. / 3600.\n",
      "    return ra"
     ],
     "language": "python",
     "metadata": {},
     "outputs": [],
     "prompt_number": 2
    },
    {
     "cell_type": "markdown",
     "metadata": {},
     "source": [
      "## def split_ra:\n",
      "Converts an RA seg. string list to degrees. Input is ['hh', 'mm', 'ss']"
     ]
    },
    {
     "cell_type": "code",
     "collapsed": false,
     "input": [
      "def split_ra(lista):\n",
      "    hour = float(lista[0]) * 15.\n",
      "    minu = float(lista[1]) * 15. / 60.\n",
      "    sec = float(lista[2]) * 15. / 3600.\n",
      "    return hour + minu + sec"
     ],
     "language": "python",
     "metadata": {},
     "outputs": [],
     "prompt_number": 3
    },
    {
     "cell_type": "markdown",
     "metadata": {},
     "source": [
      "## def calc_dec: \n",
      "Convert DEC from seg. to deg."
     ]
    },
    {
     "cell_type": "code",
     "collapsed": false,
     "input": [
      "def calc_dec(d, m, s):\n",
      "    d_int = pd.np.int16(d)\n",
      "    if d.startswith('-'):\n",
      "        dec = d_int - m / 60. - s / 3600.\n",
      "    else:\n",
      "        dec = d_int + m / 60. + s / 3600.\n",
      "    return dec"
     ],
     "language": "python",
     "metadata": {},
     "outputs": [],
     "prompt_number": 4
    },
    {
     "cell_type": "markdown",
     "metadata": {},
     "source": [
      "## def splict_dec:\n",
      "Converts an DEC seg. string list to degrees. Input is ['dd', 'mm', 'ss']"
     ]
    },
    {
     "cell_type": "code",
     "collapsed": false,
     "input": [
      "def split_dec(lista):\n",
      "    if float(lista[0]) == 0 and lista[0].startswith('-'):\n",
      "        signo = -1.\n",
      "    elif float(lista[0]) < 0:\n",
      "        signo = -1\n",
      "    else:\n",
      "        signo = 1\n",
      "\n",
      "    deg = float(lista[0])\n",
      "    minu = signo * float(lista[1]) / 60.\n",
      "    sec = signo * float(lista[2]) / 3600.\n",
      "    return deg + minu + sec"
     ],
     "language": "python",
     "metadata": {},
     "outputs": [],
     "prompt_number": 5
    },
    {
     "cell_type": "markdown",
     "metadata": {},
     "source": [
      "## def create_obj:\n",
      "Create a coordinate object using pyephem library. It is the fastest way to calculate distances later"
     ]
    },
    {
     "cell_type": "code",
     "collapsed": false,
     "input": [
      "def create_obj(ra, dec):\n",
      "    obj = ephem.FixedBody()\n",
      "    obj._ra = pd.np.radians(ra)\n",
      "    obj._dec = pd.np.radians(dec)\n",
      "    obj.compute()\n",
      "    return obj"
     ],
     "language": "python",
     "metadata": {},
     "outputs": [],
     "prompt_number": 6
    },
    {
     "cell_type": "markdown",
     "metadata": {},
     "source": [
      "## def distance:\n",
      "Calculate the separation between two ephem coordinate objects, in arcsec."
     ]
    },
    {
     "cell_type": "code",
     "collapsed": false,
     "input": [
      "def distance(coord1, coord2):\n",
      "    return np.degrees(ephem.separation(coord1, coord2)) * 3600."
     ],
     "language": "python",
     "metadata": {},
     "outputs": [],
     "prompt_number": 7
    },
    {
     "cell_type": "markdown",
     "metadata": {},
     "source": [
      "## def match:\n",
      "Match a coordenate object with the x catalogue stored in a DataFrame *sources_cat*"
     ]
    },
    {
     "cell_type": "code",
     "collapsed": false,
     "input": [
      "def match(coord, dec, name, catalogue, catalogue_name, catalogue_coord='coord', dec_sep=0.5):\n",
      "    if catalogue_name == 'weak':\n",
      "        sel = catalogue[(catalogue.DEC_vlbi > dec - dec_sep) &\n",
      "                        (catalogue.DEC_vlbi < dec + dec_sep)]\n",
      "    else:\n",
      "        sel = catalogue[(catalogue.DEC > dec - dec_sep) &\n",
      "                        (catalogue.DEC < dec + dec_sep)]\n",
      "    ids = sel.apply(\n",
      "        lambda r: distance(coord, r[catalogue_coord]), axis=1)\n",
      "    try:\n",
      "        idx = ids.idxmin()\n",
      "        idm = ids.min()\n",
      "    except ValueError or IndexError:\n",
      "        idx = 999999\n",
      "        idm = 999999\n",
      "\n",
      "    return pd.Series([idx, idm, name],\n",
      "                     index=['match_%s_id' % catalogue_name, 'separation', 'check_id'])"
     ],
     "language": "python",
     "metadata": {},
     "outputs": [],
     "prompt_number": 8
    },
    {
     "cell_type": "markdown",
     "metadata": {},
     "source": [
      "## def closest_alma:\n",
      "Find the second closest source in the alma catalogue for a coord object IN the alma catalogue. The idea is that you reject the \"match\" which is the same source (separation 0) and you get the second in the list.\n",
      "**DRAWBACK** If two sources have exactly the same coordinates (clear duplicate) the separation is 0, and then you have a list with two matches with separation 0, and the output could be the same source."
     ]
    },
    {
     "cell_type": "code",
     "collapsed": false,
     "input": [
      "def closest_alma(coord, dec, name, sources_cat, dec_sep=0.5):\n",
      "    sel = sources_cat[(sources_cat.DEC > dec - dec_sep) &\n",
      "                      (sources_cat.DEC < dec + dec_sep)]\n",
      "    ids = sel.apply(\n",
      "        lambda r: distance(coord, r['coord']), axis=1)\n",
      "    try:\n",
      "        ids.sort()\n",
      "        idx = ids.index[1]\n",
      "        idm = ids.iloc[1]\n",
      "        if idx == name and idm == 0:\n",
      "            idx = ids.index[0]\n",
      "                \n",
      "    except IndexError:\n",
      "        idx = 999999\n",
      "        idm = 999999\n",
      "\n",
      "    return pd.Series([idx, idm, name],\n",
      "                     index=['closest', 'separation', 'check_id'])"
     ],
     "language": "python",
     "metadata": {},
     "outputs": [],
     "prompt_number": 9
    },
    {
     "cell_type": "markdown",
     "metadata": {},
     "source": [
      "---------------\n",
      "# Query archive\n",
      "And creates a DataFrame object (**measurements_df**)."
     ]
    },
    {
     "cell_type": "code",
     "collapsed": false,
     "input": [
      "conx_string = 'almasu/alma4dba@ALMA_ONLINE.OSF.CL'\n",
      "connection = cx_Oracle.connect(conx_string)\n",
      "cursor = connection.cursor()\n",
      "cursor.execute('SELECT * FROM SOURCECATALOGUE.MEASUREMENTS')\n",
      "measurements_df = pd.DataFrame(\n",
      "    cursor.fetchall(),\n",
      "    columns=[rec[0] for rec in cursor.description])\n",
      "\n",
      "sql_sourcename = 'SELECT * FROM sourcecatalogue.source_name'\n",
      "cursor.execute(sql_sourcename)\n",
      "source_name = pd.DataFrame(\n",
      "    cursor.fetchall(), columns=[rec[0] for rec in cursor.description])\n",
      "\n",
      "sql_names = 'SELECT * FROM sourcecatalogue.names'\n",
      "cursor.execute(sql_names)\n",
      "names = pd.DataFrame(\n",
      "    cursor.fetchall(),\n",
      "    columns=[rec[0] for rec in cursor.description])\n",
      "\n",
      "cursor.close()\n",
      "connection.close()"
     ],
     "language": "python",
     "metadata": {},
     "outputs": []
    },
    {
     "cell_type": "markdown",
     "metadata": {},
     "source": [
      "Now we construct a DataFrame that has only one \"mesurement\" by source. The DataFrame is called **sources_from_ms_df**."
     ]
    },
    {
     "cell_type": "code",
     "collapsed": false,
     "input": [
      "alma_df = measurements_df.sort('DATE_OBSERVED', ascending=False).groupby('SOURCE_ID').first()\n",
      "alma_df['SOURCE_ID'] = alma_df.index"
     ],
     "language": "python",
     "metadata": {},
     "outputs": []
    },
    {
     "cell_type": "code",
     "collapsed": false,
     "input": [
      "alma_df.__len__()"
     ],
     "language": "python",
     "metadata": {},
     "outputs": []
    },
    {
     "cell_type": "code",
     "collapsed": false,
     "input": [
      "alma_df['coord'] = alma_df.apply(\n",
      "    lambda r: create_obj(r['RA'], r['DEC']),\n",
      "    axis=1)"
     ],
     "language": "python",
     "metadata": {},
     "outputs": []
    },
    {
     "cell_type": "markdown",
     "metadata": {},
     "source": [
      "----------------------------------\n",
      "# Reading other catalogues sources\n",
      "## VLBI catalogue"
     ]
    },
    {
     "cell_type": "code",
     "collapsed": false,
     "input": [
      "dt = {'Category': dtype('O'),\n",
      "      'IVS': dtype('O'),\n",
      "      'dec_d': dtype('O'),\n",
      "      'dec_err': dtype('float64'),\n",
      "      'dec_m': dtype('int64'),\n",
      "      'dec_s': dtype('float64'),\n",
      "      'name': dtype('O'),\n",
      "      'numobs': dtype('int64'),\n",
      "      'ra_dec_corr': dtype('float64'),\n",
      "      'ra_err': dtype('float64'),\n",
      "      'ra_h': dtype('int64'),\n",
      "      'ra_m': dtype('int64'),\n",
      "      'ra_s': dtype('float64')}\n",
      "\n",
      "vlbi_df = pd.io.parsers.read_table(\n",
      "    '/home/itoledo/Work/calscripts/rfc_2014b_cat.txt',\n",
      "    skiprows=119,\n",
      "    skipinitialspace=True,\n",
      "    sep=' ',\n",
      "    names=['Category', 'IVS', 'name', 'ra_h', 'ra_m', 'ra_s', 'dec_d',\n",
      "           'dec_m', 'dec_s', 'ra_err', 'dec_err', 'ra_dec_corr', 'numobs'],\n",
      "    usecols=[0, 1, 2, 3, 4, 5, 6, 7, 8, 9, 10, 11, 12], dtype=dt)\n",
      "vlbi_df['RA'] = vlbi_df.apply(\n",
      "    lambda r: calc_ra(r['ra_h'], r['ra_m'], r['ra_s']), axis=1)\n",
      "vlbi_df['DEC'] = vlbi_df.apply(\n",
      "    lambda r: calc_dec(r['dec_d'], r['dec_m'], r['dec_s']), axis=1)\n",
      "vlbi_df['coord_vlbi'] =vlbi_df.apply(\n",
      "    lambda r: create_obj(r['RA'], r['DEC']),\n",
      "    axis=1)\n",
      "vlbi_df.head()"
     ],
     "language": "python",
     "metadata": {},
     "outputs": [
      {
       "html": [
        "<div style=\"max-height:1000px;max-width:1500px;overflow:auto;\">\n",
        "<table border=\"1\" class=\"dataframe\">\n",
        "  <thead>\n",
        "    <tr style=\"text-align: right;\">\n",
        "      <th></th>\n",
        "      <th>Category</th>\n",
        "      <th>IVS</th>\n",
        "      <th>name</th>\n",
        "      <th>ra_h</th>\n",
        "      <th>ra_m</th>\n",
        "      <th>ra_s</th>\n",
        "      <th>dec_d</th>\n",
        "      <th>dec_m</th>\n",
        "      <th>dec_s</th>\n",
        "      <th>ra_err</th>\n",
        "      <th>dec_err</th>\n",
        "      <th>ra_dec_corr</th>\n",
        "      <th>numobs</th>\n",
        "      <th>RA</th>\n",
        "      <th>DEC</th>\n",
        "      <th>coord_vlbi</th>\n",
        "    </tr>\n",
        "  </thead>\n",
        "  <tbody>\n",
        "    <tr>\n",
        "      <th>0</th>\n",
        "      <td> C</td>\n",
        "      <td> 2358+406</td>\n",
        "      <td> J0000+4054</td>\n",
        "      <td> 0</td>\n",
        "      <td> 0</td>\n",
        "      <td> 53.081578</td>\n",
        "      <td> +40</td>\n",
        "      <td> 54</td>\n",
        "      <td>  1.79492</td>\n",
        "      <td> 0.94</td>\n",
        "      <td> 1.02</td>\n",
        "      <td>-0.270</td>\n",
        "      <td>   39</td>\n",
        "      <td> 0.221173</td>\n",
        "      <td> 40.900499</td>\n",
        "      <td> &lt;ephem.FixedBody None at 0x7ff535d562e0&gt;</td>\n",
        "    </tr>\n",
        "    <tr>\n",
        "      <th>1</th>\n",
        "      <td> C</td>\n",
        "      <td> 2358-161</td>\n",
        "      <td> J0001-1551</td>\n",
        "      <td> 0</td>\n",
        "      <td> 1</td>\n",
        "      <td>  5.328769</td>\n",
        "      <td> -15</td>\n",
        "      <td> 51</td>\n",
        "      <td>  7.07585</td>\n",
        "      <td> 0.31</td>\n",
        "      <td> 0.55</td>\n",
        "      <td>-0.704</td>\n",
        "      <td>   63</td>\n",
        "      <td> 0.272203</td>\n",
        "      <td>-15.851966</td>\n",
        "      <td> &lt;ephem.FixedBody None at 0x7ff535d56438&gt;</td>\n",
        "    </tr>\n",
        "    <tr>\n",
        "      <th>2</th>\n",
        "      <td> C</td>\n",
        "      <td> 2358+605</td>\n",
        "      <td> J0001+6051</td>\n",
        "      <td> 0</td>\n",
        "      <td> 1</td>\n",
        "      <td>  7.099845</td>\n",
        "      <td> +60</td>\n",
        "      <td> 51</td>\n",
        "      <td> 22.79836</td>\n",
        "      <td> 0.63</td>\n",
        "      <td> 0.35</td>\n",
        "      <td>-0.137</td>\n",
        "      <td>  122</td>\n",
        "      <td> 0.279583</td>\n",
        "      <td> 60.856333</td>\n",
        "      <td> &lt;ephem.FixedBody None at 0x7ff535d56590&gt;</td>\n",
        "    </tr>\n",
        "    <tr>\n",
        "      <th>3</th>\n",
        "      <td> C</td>\n",
        "      <td> 2358+189</td>\n",
        "      <td> J0001+1914</td>\n",
        "      <td> 0</td>\n",
        "      <td> 1</td>\n",
        "      <td>  8.621571</td>\n",
        "      <td> +19</td>\n",
        "      <td> 14</td>\n",
        "      <td> 33.80175</td>\n",
        "      <td> 0.11</td>\n",
        "      <td> 0.10</td>\n",
        "      <td> 0.009</td>\n",
        "      <td> 2488</td>\n",
        "      <td> 0.285923</td>\n",
        "      <td> 19.242723</td>\n",
        "      <td> &lt;ephem.FixedBody None at 0x7ff535d566e8&gt;</td>\n",
        "    </tr>\n",
        "    <tr>\n",
        "      <th>4</th>\n",
        "      <td> C</td>\n",
        "      <td> 2358-080</td>\n",
        "      <td> J0001-0746</td>\n",
        "      <td> 0</td>\n",
        "      <td> 1</td>\n",
        "      <td> 18.024903</td>\n",
        "      <td> -07</td>\n",
        "      <td> 46</td>\n",
        "      <td> 26.92288</td>\n",
        "      <td> 0.28</td>\n",
        "      <td> 0.53</td>\n",
        "      <td> 0.360</td>\n",
        "      <td>   90</td>\n",
        "      <td> 0.325104</td>\n",
        "      <td> -7.774145</td>\n",
        "      <td> &lt;ephem.FixedBody None at 0x7ff535d56840&gt;</td>\n",
        "    </tr>\n",
        "  </tbody>\n",
        "</table>\n",
        "</div>"
       ],
       "metadata": {},
       "output_type": "pyout",
       "prompt_number": 10,
       "text": [
        "  Category       IVS        name  ra_h  ra_m       ra_s dec_d  dec_m     dec_s  ra_err  dec_err  ra_dec_corr  numobs        RA        DEC                                coord_vlbi\n",
        "0        C  2358+406  J0000+4054     0     0  53.081578   +40     54   1.79492    0.94     1.02       -0.270      39  0.221173  40.900499  <ephem.FixedBody None at 0x7ff535d562e0>\n",
        "1        C  2358-161  J0001-1551     0     1   5.328769   -15     51   7.07585    0.31     0.55       -0.704      63  0.272203 -15.851966  <ephem.FixedBody None at 0x7ff535d56438>\n",
        "2        C  2358+605  J0001+6051     0     1   7.099845   +60     51  22.79836    0.63     0.35       -0.137     122  0.279583  60.856333  <ephem.FixedBody None at 0x7ff535d56590>\n",
        "3        C  2358+189  J0001+1914     0     1   8.621571   +19     14  33.80175    0.11     0.10        0.009    2488  0.285923  19.242723  <ephem.FixedBody None at 0x7ff535d566e8>\n",
        "4        C  2358-080  J0001-0746     0     1  18.024903   -07     46  26.92288    0.28     0.53        0.360      90  0.325104  -7.774145  <ephem.FixedBody None at 0x7ff535d56840>"
       ]
      }
     ],
     "prompt_number": 10
    },
    {
     "cell_type": "markdown",
     "metadata": {},
     "source": [
      "## ATCA candidates"
     ]
    },
    {
     "cell_type": "code",
     "collapsed": false,
     "input": [
      "atca_df = pd.io.parsers.read_table(\n",
      "    '/home/itoledo/Work/calscripts/ATC.txt',\n",
      "    skiprows=24, sep='\\t',\n",
      "    names=['ATCA_name', 'RA', 'errRA', 'DEC', 'errDEC', 'f20', 'ef20', 'f93',\n",
      "           'B3est', 'Flags', 'Flags2', 'ALMAname'],\n",
      "    usecols=[0, 1, 2, 3, 4, 5, 6, 7, 8, 9, 10, 11])\n",
      "\n",
      "atca_df['coord_atca'] =atca_df.apply(\n",
      "    lambda r: create_obj(r['RA'], r['DEC']),\n",
      "    axis=1)"
     ],
     "language": "python",
     "metadata": {},
     "outputs": [],
     "prompt_number": 11
    },
    {
     "cell_type": "markdown",
     "metadata": {},
     "source": [
      "## VLA candidates"
     ]
    },
    {
     "cell_type": "code",
     "collapsed": false,
     "input": [
      "vla_df = pd.read_table(\n",
      "    '/home/itoledo/Work/calscripts/vla_candidates2.csv', sep=' ', skipinitialspace=True\n",
      ")[['vla_name', 'p_err', 'ra', 'dec', 'est_flux']]\n",
      "vla_df['RA'] = vla_df.apply(lambda r: split_ra(r['ra'].split(':')), axis=1)\n",
      "vla_df['DEC'] = vla_df.apply(lambda r: split_dec(r['dec'].split(':')), axis=1)\n",
      "vla_df['coord_vla'] =vla_df.apply(\n",
      "    lambda r: create_obj(r['RA'], r['DEC']),\n",
      "    axis=1)\n",
      "vla_df.head()"
     ],
     "language": "python",
     "metadata": {},
     "outputs": [
      {
       "html": [
        "<div style=\"max-height:1000px;max-width:1500px;overflow:auto;\">\n",
        "<table border=\"1\" class=\"dataframe\">\n",
        "  <thead>\n",
        "    <tr style=\"text-align: right;\">\n",
        "      <th></th>\n",
        "      <th>vla_name</th>\n",
        "      <th>p_err</th>\n",
        "      <th>ra</th>\n",
        "      <th>dec</th>\n",
        "      <th>est_flux</th>\n",
        "      <th>RA</th>\n",
        "      <th>DEC</th>\n",
        "      <th>coord_vla</th>\n",
        "    </tr>\n",
        "  </thead>\n",
        "  <tbody>\n",
        "    <tr>\n",
        "      <th>0</th>\n",
        "      <td> 1256-057</td>\n",
        "      <td> 0.005</td>\n",
        "      <td> 12:56:11.166560</td>\n",
        "      <td> -05:47:21.524580</td>\n",
        "      <td> 12.35</td>\n",
        "      <td> 194.046527</td>\n",
        "      <td> -5.789312</td>\n",
        "      <td> &lt;ephem.FixedBody None at 0x7ff5356a4da0&gt;</td>\n",
        "    </tr>\n",
        "    <tr>\n",
        "      <th>1</th>\n",
        "      <td> 2253+161</td>\n",
        "      <td> 0.001</td>\n",
        "      <td> 22:53:57.747932</td>\n",
        "      <td>  16:08:53.560890</td>\n",
        "      <td>  8.55</td>\n",
        "      <td> 343.490616</td>\n",
        "      <td> 16.148211</td>\n",
        "      <td> &lt;ephem.FixedBody None at 0x7ff535655030&gt;</td>\n",
        "    </tr>\n",
        "    <tr>\n",
        "      <th>2</th>\n",
        "      <td> 1229+020</td>\n",
        "      <td> 0.005</td>\n",
        "      <td> 12:29:06.699729</td>\n",
        "      <td>  02:03:08.598190</td>\n",
        "      <td>  6.75</td>\n",
        "      <td> 187.277916</td>\n",
        "      <td>  2.052388</td>\n",
        "      <td> &lt;ephem.FixedBody None at 0x7ff535655188&gt;</td>\n",
        "    </tr>\n",
        "    <tr>\n",
        "      <th>3</th>\n",
        "      <td> 1230+123</td>\n",
        "      <td> 0.001</td>\n",
        "      <td> 12:30:49.423381</td>\n",
        "      <td>  12:23:28.043930</td>\n",
        "      <td>  6.00</td>\n",
        "      <td> 187.705931</td>\n",
        "      <td> 12.391123</td>\n",
        "      <td> &lt;ephem.FixedBody None at 0x7ff5356552e0&gt;</td>\n",
        "    </tr>\n",
        "    <tr>\n",
        "      <th>4</th>\n",
        "      <td> 1642+398</td>\n",
        "      <td> 0.001</td>\n",
        "      <td> 16:42:58.809951</td>\n",
        "      <td>  39:48:36.993950</td>\n",
        "      <td>  5.60</td>\n",
        "      <td> 250.745041</td>\n",
        "      <td> 39.810276</td>\n",
        "      <td> &lt;ephem.FixedBody None at 0x7ff535655438&gt;</td>\n",
        "    </tr>\n",
        "  </tbody>\n",
        "</table>\n",
        "</div>"
       ],
       "metadata": {},
       "output_type": "pyout",
       "prompt_number": 12,
       "text": [
        "   vla_name  p_err               ra               dec  est_flux          RA        DEC                                 coord_vla\n",
        "0  1256-057  0.005  12:56:11.166560  -05:47:21.524580     12.35  194.046527  -5.789312  <ephem.FixedBody None at 0x7ff5356a4da0>\n",
        "1  2253+161  0.001  22:53:57.747932   16:08:53.560890      8.55  343.490616  16.148211  <ephem.FixedBody None at 0x7ff535655030>\n",
        "2  1229+020  0.005  12:29:06.699729   02:03:08.598190      6.75  187.277916   2.052388  <ephem.FixedBody None at 0x7ff535655188>\n",
        "3  1230+123  0.001  12:30:49.423381   12:23:28.043930      6.00  187.705931  12.391123  <ephem.FixedBody None at 0x7ff5356552e0>\n",
        "4  1642+398  0.001  16:42:58.809951   39:48:36.993950      5.60  250.745041  39.810276  <ephem.FixedBody None at 0x7ff535655438>"
       ]
      }
     ],
     "prompt_number": 12
    },
    {
     "cell_type": "markdown",
     "metadata": {},
     "source": [
      "## GRID sources"
     ]
    },
    {
     "cell_type": "code",
     "collapsed": false,
     "input": [
      "grids_df = pd.io.parsers.read_table(\n",
      "    '/home/itoledo/Work/calscripts/grid_sources_20140830.csv', sep=',',\n",
      "    names=['RA', 'RA_err', 'DEC', 'DEC_err', 'names'])\n",
      "grids_df['coord_grid'] =grids_df.apply(\n",
      "    lambda r: create_obj(r['RA'], r['DEC']),\n",
      "    axis=1)\n",
      "grids_df = grids_df.set_index('names', drop=False)"
     ],
     "language": "python",
     "metadata": {},
     "outputs": [],
     "prompt_number": 44
    },
    {
     "cell_type": "markdown",
     "metadata": {},
     "source": [
      "## WeakSource Catalogue, the one currently (20141010) being use"
     ]
    },
    {
     "cell_type": "code",
     "collapsed": false,
     "input": [
      "weak = pd.read_table('/home/itoledo/Work/calscripts/WeakSourceList2.csv',\n",
      "                     sep=',', header=0)"
     ],
     "language": "python",
     "metadata": {},
     "outputs": [],
     "prompt_number": 14
    },
    {
     "cell_type": "code",
     "collapsed": false,
     "input": [
      "weak['coord_weak_atca'] = weak.apply(\n",
      "    lambda r: create_obj(r['RA_atca'], r['DEC_atca']),\n",
      "    axis=1)\n",
      "weak['coord_weak_vlbi'] = weak.apply(\n",
      "    lambda r: create_obj(r['RA_vlbi'], r['DEC_vlbi']),\n",
      "    axis=1)"
     ],
     "language": "python",
     "metadata": {},
     "outputs": [],
     "prompt_number": 15
    },
    {
     "cell_type": "markdown",
     "metadata": {},
     "source": [
      "# Weak source catalogue: new sources, not in alma catalogue\n",
      "\n",
      "* First, we crossmatch the weak catalogue with the alma catalogue (all sources), using the ATCA coordinates. **weak_cross_alma_df**."
     ]
    },
    {
     "cell_type": "code",
     "collapsed": false,
     "input": [
      "weak_sep_alma = weak.apply(lambda r: match(r['coord_weak_atca'], r['DEC_atca'], r['ATCA_name'], alma_df, 'alma'), axis=1)\n"
     ],
     "language": "python",
     "metadata": {},
     "outputs": []
    },
    {
     "cell_type": "code",
     "collapsed": false,
     "input": [
      "weak_cross_alma_df = pd.merge(weak, weak_sep_alma, left_index=True, right_index=True)\n",
      "len(weak_cross_alma_df[weak_cross_alma_df.separation < 5])"
     ],
     "language": "python",
     "metadata": {},
     "outputs": []
    },
    {
     "cell_type": "markdown",
     "metadata": {},
     "source": [
      "* Next we perform the same operation, but this time we use the VLBI coordinates from the weak catalogue. This will allow us to check results. **weak_cross_alma_vlbi_df**."
     ]
    },
    {
     "cell_type": "code",
     "collapsed": false,
     "input": [
      "weak_sep_alma_vlbi = weak.apply(lambda r: match(r['coord_weak_vlbi'], r['DEC_vlbi'], r['ATCA_name'], alma_df, 'alma'), axis=1)"
     ],
     "language": "python",
     "metadata": {},
     "outputs": []
    },
    {
     "cell_type": "code",
     "collapsed": false,
     "input": [
      "weak_cross_alma_vlbi_df = pd.merge(weak, weak_sep_alma_vlbi, left_index=True, right_index=True)\n",
      "weak_cross_alma_vlbi_df[weak_cross_alma_vlbi_df.separation > 5]"
     ],
     "language": "python",
     "metadata": {},
     "outputs": []
    },
    {
     "cell_type": "markdown",
     "metadata": {},
     "source": [
      "* Now we create **weak_crosscheck_df**, to check that the matches to the alma catalogue using both set of coordinates are the same. We expect to find some discrepancies."
     ]
    },
    {
     "cell_type": "code",
     "collapsed": false,
     "input": [
      "weak_crosscheck_df = pd.merge(weak_cross_alma_df[weak_cross_alma_df.separation < 5], weak_cross_alma_vlbi_df[weak_cross_alma_vlbi_df.separation < 5], on='ATCA_name', how='left')"
     ],
     "language": "python",
     "metadata": {},
     "outputs": []
    },
    {
     "cell_type": "code",
     "collapsed": false,
     "input": [
      "weak_crosscheck_df[weak_crosscheck_df.match_alma_id_x != weak_crosscheck_df.match_alma_id_y][['ATCA_name','SOURCE_ID_x', 'SOURCE_ID_y', 'match_alma_id_x', 'separation_x', 'match_alma_id_y', 'separation_y','check_id_x', 'check_id_y']]"
     ],
     "language": "python",
     "metadata": {},
     "outputs": []
    },
    {
     "cell_type": "code",
     "collapsed": false,
     "input": [
      "len(weak[weak.distance_vlbi < 5])"
     ],
     "language": "python",
     "metadata": {},
     "outputs": []
    },
    {
     "cell_type": "markdown",
     "metadata": {},
     "source": [
      "-------------------------------------------------------\n",
      "# Find duplicate sources (only within alma catalogue):\n",
      "\n",
      "* The following lines will try to find duplicate sources (and measurements?). Each source, identified by SOURCE_ID, should be unique and do not have the same coordinates as any other source."
     ]
    },
    {
     "cell_type": "code",
     "collapsed": false,
     "input": [
      "closest_df = alma_df.apply(\n",
      "    lambda r: closest_alma(\n",
      "        r['coord'], r['DEC'], r['SOURCE_ID'], alma_df, dec_sep=0.1),\n",
      "    axis=1)\n",
      "duplicates = pd.merge(\n",
      "    alma_df,\n",
      "    closest_df[closest_df.separation < 5].sort('separation'),\n",
      "    right_index=True,\n",
      "    left_index=True,\n",
      "    how='right')"
     ],
     "language": "python",
     "metadata": {},
     "outputs": []
    },
    {
     "cell_type": "markdown",
     "metadata": {},
     "source": [
      "* As a first priority, we look for all sources that have measurements belonging to the ALMA catalogue (ID=5), and the check with of these have duplicate sources."
     ]
    },
    {
     "cell_type": "code",
     "collapsed": false,
     "input": [
      "cat5ms_df = pd.DataFrame(\n",
      "    measurements_df[measurements_df.CATALOGUE_ID == 5].SOURCE_ID.unique(),\n",
      "    columns=['SOURCE_ID'])\n",
      "duplicates_cat5 = pd.merge(\n",
      "    duplicates, cat5ms_df, left_index=True, right_on='SOURCE_ID', how='inner')[['SOURCE_ID','closest', 'separation', 'ORIGIN', 'DATE_CREATED']]\n",
      "duplicates_cat5"
     ],
     "language": "python",
     "metadata": {},
     "outputs": []
    },
    {
     "cell_type": "markdown",
     "metadata": {},
     "source": [
      "## Visualization of data\n",
      "\n",
      "* Scatter plot on a mollweide projection"
     ]
    },
    {
     "cell_type": "code",
     "collapsed": false,
     "input": [
      "alma_cat5_df = pd.merge(alma_df, cat5ms_df, left_index=True, right_on='SOURCE_ID')\n",
      "usable = alma_cat5_df[alma_cat5_df.DATE_OBSERVED > '2013-10-10']\n",
      "RA = np.radians(usable.RA.values-180)\n",
      "DEC = np.radians(usable.DEC.values)"
     ],
     "language": "python",
     "metadata": {},
     "outputs": []
    },
    {
     "cell_type": "code",
     "collapsed": false,
     "input": [
      "ax = axes(projection='mollweide')"
     ],
     "language": "python",
     "metadata": {},
     "outputs": []
    },
    {
     "cell_type": "code",
     "collapsed": false,
     "input": [
      "scatter(RA, DEC, c=usable.FLUX.values, vmin=0, vmax=1., alpha=0.5)"
     ],
     "language": "python",
     "metadata": {},
     "outputs": []
    },
    {
     "cell_type": "code",
     "collapsed": false,
     "input": [
      "RA = np.radians(measurements_df.RA.values-180)\n",
      "DEC = np.radians(measurements_df.DEC.values)"
     ],
     "language": "python",
     "metadata": {},
     "outputs": []
    },
    {
     "cell_type": "markdown",
     "metadata": {},
     "source": [
      "* Plotting circles of 15 degrees radius on a mollweide projection. Usefull to visualize empty sky patches"
     ]
    },
    {
     "cell_type": "code",
     "collapsed": false,
     "input": [
      "ax = subplot(111, projection='mollweide')\n",
      "ax.xaxis.set_major_locator(plt.FixedLocator(np.pi / 3\n",
      "                                                * np.linspace(-2, 2, 5)))\n",
      "ax.xaxis.set_minor_locator(plt.FixedLocator(np.pi / 6\n",
      "                                                * np.linspace(-5, 5, 11)))\n",
      "ax.yaxis.set_major_locator(plt.FixedLocator(np.pi / 6\n",
      "                                                * np.linspace(-2, 2, 5)))\n",
      "ax.yaxis.set_minor_locator(plt.FixedLocator(np.pi / 12\n",
      "                                                * np.linspace(-5, 5, 11)))\n",
      "ax.grid(True, which='minor')\n",
      "plot_tissot_ellipse(RA, DEC, radius=np.radians(30.), ax=ax, fc='b', alpha=0.08, linewidth=0)"
     ],
     "language": "python",
     "metadata": {},
     "outputs": []
    },
    {
     "cell_type": "code",
     "collapsed": false,
     "input": [
      "vla_cross = vla_df.apply(lambda r: match(r['coord_vla'], r['DEC'], r['vla_name'], vlbi_df, 'vlbi', catalogue_coord='coord_vlbi'), axis=1)"
     ],
     "language": "python",
     "metadata": {},
     "outputs": [],
     "prompt_number": 16
    },
    {
     "cell_type": "code",
     "collapsed": false,
     "input": [
      "len(vla_cross[vla_cross.separation < 3])"
     ],
     "language": "python",
     "metadata": {},
     "outputs": [
      {
       "metadata": {},
       "output_type": "pyout",
       "prompt_number": 17,
       "text": [
        "939"
       ]
      }
     ],
     "prompt_number": 17
    },
    {
     "cell_type": "code",
     "collapsed": false,
     "input": [
      "vla_vlbi = pd.merge(\n",
      "    vla_df,\n",
      "    vla_cross[vla_cross.separation < 3].sort('separation'),\n",
      "    right_index=True,\n",
      "    left_index=True,\n",
      "    how='right')"
     ],
     "language": "python",
     "metadata": {},
     "outputs": [],
     "prompt_number": 18
    },
    {
     "cell_type": "code",
     "collapsed": false,
     "input": [
      "len(vla_vlbi)"
     ],
     "language": "python",
     "metadata": {},
     "outputs": [
      {
       "metadata": {},
       "output_type": "pyout",
       "prompt_number": 19,
       "text": [
        "939"
       ]
      }
     ],
     "prompt_number": 19
    },
    {
     "cell_type": "code",
     "collapsed": false,
     "input": [
      "vla_vlbi_cross_weak = vla_vlbi.apply(lambda r: match(r['coord_vla'], r['DEC'], r['vla_name'], weak, 'weak', catalogue_coord='coord_weak_vlbi'), axis=1)"
     ],
     "language": "python",
     "metadata": {},
     "outputs": [],
     "prompt_number": 20
    },
    {
     "cell_type": "code",
     "collapsed": false,
     "input": [
      "vla_vlbi_cross_weak.describe()"
     ],
     "language": "python",
     "metadata": {},
     "outputs": [
      {
       "html": [
        "<div style=\"max-height:1000px;max-width:1500px;overflow:auto;\">\n",
        "<table border=\"1\" class=\"dataframe\">\n",
        "  <thead>\n",
        "    <tr style=\"text-align: right;\">\n",
        "      <th></th>\n",
        "      <th>match_weak_id</th>\n",
        "      <th>separation</th>\n",
        "    </tr>\n",
        "  </thead>\n",
        "  <tbody>\n",
        "    <tr>\n",
        "      <th>count</th>\n",
        "      <td>    939.000000</td>\n",
        "      <td>    939.000000</td>\n",
        "    </tr>\n",
        "    <tr>\n",
        "      <th>mean</th>\n",
        "      <td> 915959.614483</td>\n",
        "      <td> 916849.812551</td>\n",
        "    </tr>\n",
        "    <tr>\n",
        "      <th>std</th>\n",
        "      <td> 277427.849248</td>\n",
        "      <td> 274626.519315</td>\n",
        "    </tr>\n",
        "    <tr>\n",
        "      <th>min</th>\n",
        "      <td>      2.000000</td>\n",
        "      <td>      0.000000</td>\n",
        "    </tr>\n",
        "    <tr>\n",
        "      <th>25%</th>\n",
        "      <td> 999999.000000</td>\n",
        "      <td> 999999.000000</td>\n",
        "    </tr>\n",
        "    <tr>\n",
        "      <th>50%</th>\n",
        "      <td> 999999.000000</td>\n",
        "      <td> 999999.000000</td>\n",
        "    </tr>\n",
        "    <tr>\n",
        "      <th>75%</th>\n",
        "      <td> 999999.000000</td>\n",
        "      <td> 999999.000000</td>\n",
        "    </tr>\n",
        "    <tr>\n",
        "      <th>max</th>\n",
        "      <td> 999999.000000</td>\n",
        "      <td> 999999.000000</td>\n",
        "    </tr>\n",
        "  </tbody>\n",
        "</table>\n",
        "</div>"
       ],
       "metadata": {},
       "output_type": "pyout",
       "prompt_number": 21,
       "text": [
        "       match_weak_id     separation\n",
        "count     939.000000     939.000000\n",
        "mean   915959.614483  916849.812551\n",
        "std    277427.849248  274626.519315\n",
        "min         2.000000       0.000000\n",
        "25%    999999.000000  999999.000000\n",
        "50%    999999.000000  999999.000000\n",
        "75%    999999.000000  999999.000000\n",
        "max    999999.000000  999999.000000"
       ]
      }
     ],
     "prompt_number": 21
    },
    {
     "cell_type": "code",
     "collapsed": false,
     "input": [
      "vla_weak_df = pd.merge(\n",
      "    vla_vlbi,\n",
      "    vla_vlbi_cross_weak[vla_vlbi_cross_weak.separation > 5],\n",
      "    right_index=True,\n",
      "    left_index=True,\n",
      "    how='right')"
     ],
     "language": "python",
     "metadata": {},
     "outputs": [],
     "prompt_number": 22
    },
    {
     "cell_type": "code",
     "collapsed": false,
     "input": [
      "vla_weak_df.head()"
     ],
     "language": "python",
     "metadata": {},
     "outputs": [
      {
       "html": [
        "<div style=\"max-height:1000px;max-width:1500px;overflow:auto;\">\n",
        "<table border=\"1\" class=\"dataframe\">\n",
        "  <thead>\n",
        "    <tr style=\"text-align: right;\">\n",
        "      <th></th>\n",
        "      <th>vla_name</th>\n",
        "      <th>p_err</th>\n",
        "      <th>ra</th>\n",
        "      <th>dec</th>\n",
        "      <th>est_flux</th>\n",
        "      <th>RA</th>\n",
        "      <th>DEC</th>\n",
        "      <th>coord_vla</th>\n",
        "      <th>match_vlbi_id</th>\n",
        "      <th>separation_x</th>\n",
        "      <th>check_id_x</th>\n",
        "      <th>match_weak_id</th>\n",
        "      <th>separation_y</th>\n",
        "      <th>check_id_y</th>\n",
        "    </tr>\n",
        "  </thead>\n",
        "  <tbody>\n",
        "    <tr>\n",
        "      <th>0  </th>\n",
        "      <td> 1256-057</td>\n",
        "      <td> 0.005</td>\n",
        "      <td> 12:56:11.166560</td>\n",
        "      <td> -05:47:21.524580</td>\n",
        "      <td> 12.35</td>\n",
        "      <td> 194.046527</td>\n",
        "      <td> -5.789312</td>\n",
        "      <td> &lt;ephem.FixedBody None at 0x7ff5356a4da0&gt;</td>\n",
        "      <td> 5016</td>\n",
        "      <td> 0</td>\n",
        "      <td> 1256-057</td>\n",
        "      <td>    353</td>\n",
        "      <td>  20064.909598</td>\n",
        "      <td> 1256-057</td>\n",
        "    </tr>\n",
        "    <tr>\n",
        "      <th>383</th>\n",
        "      <td> 2245+034</td>\n",
        "      <td> 0.001</td>\n",
        "      <td> 22:45:28.284772</td>\n",
        "      <td>  03:24:08.864310</td>\n",
        "      <td>  0.15</td>\n",
        "      <td> 341.367853</td>\n",
        "      <td>  3.402462</td>\n",
        "      <td> &lt;ephem.FixedBody None at 0x7ff535677af0&gt;</td>\n",
        "      <td> 8672</td>\n",
        "      <td> 0</td>\n",
        "      <td> 2245+034</td>\n",
        "      <td> 999999</td>\n",
        "      <td> 999999.000000</td>\n",
        "      <td> 2245+034</td>\n",
        "    </tr>\n",
        "    <tr>\n",
        "      <th>380</th>\n",
        "      <td> 2031+123</td>\n",
        "      <td> 0.001</td>\n",
        "      <td> 20:31:54.994279</td>\n",
        "      <td>  12:19:41.340430</td>\n",
        "      <td>  0.15</td>\n",
        "      <td> 307.979143</td>\n",
        "      <td> 12.328150</td>\n",
        "      <td> &lt;ephem.FixedBody None at 0x7ff5356776e8&gt;</td>\n",
        "      <td> 7952</td>\n",
        "      <td> 0</td>\n",
        "      <td> 2031+123</td>\n",
        "      <td> 999999</td>\n",
        "      <td> 999999.000000</td>\n",
        "      <td> 2031+123</td>\n",
        "    </tr>\n",
        "    <tr>\n",
        "      <th>379</th>\n",
        "      <td> 2025+032</td>\n",
        "      <td> 0.001</td>\n",
        "      <td> 20:25:09.632168</td>\n",
        "      <td>  03:16:44.505300</td>\n",
        "      <td>  0.15</td>\n",
        "      <td> 306.290134</td>\n",
        "      <td>  3.279029</td>\n",
        "      <td> &lt;ephem.FixedBody None at 0x7ff535677590&gt;</td>\n",
        "      <td> 7919</td>\n",
        "      <td> 0</td>\n",
        "      <td> 2025+032</td>\n",
        "      <td> 999999</td>\n",
        "      <td> 999999.000000</td>\n",
        "      <td> 2025+032</td>\n",
        "    </tr>\n",
        "    <tr>\n",
        "      <th>378</th>\n",
        "      <td> 2007+066</td>\n",
        "      <td> 0.005</td>\n",
        "      <td>   20:07:11.9152</td>\n",
        "      <td>     06:36:44.596</td>\n",
        "      <td>  0.15</td>\n",
        "      <td> 301.799647</td>\n",
        "      <td>  6.612388</td>\n",
        "      <td> &lt;ephem.FixedBody None at 0x7ff535677438&gt;</td>\n",
        "      <td> 7817</td>\n",
        "      <td> 0</td>\n",
        "      <td> 2007+066</td>\n",
        "      <td> 999999</td>\n",
        "      <td> 999999.000000</td>\n",
        "      <td> 2007+066</td>\n",
        "    </tr>\n",
        "  </tbody>\n",
        "</table>\n",
        "</div>"
       ],
       "metadata": {},
       "output_type": "pyout",
       "prompt_number": 25,
       "text": [
        "     vla_name  p_err               ra               dec  est_flux          RA        DEC                                 coord_vla  match_vlbi_id  separation_x check_id_x  match_weak_id  \\\n",
        "0    1256-057  0.005  12:56:11.166560  -05:47:21.524580     12.35  194.046527  -5.789312  <ephem.FixedBody None at 0x7ff5356a4da0>           5016             0   1256-057            353   \n",
        "383  2245+034  0.001  22:45:28.284772   03:24:08.864310      0.15  341.367853   3.402462  <ephem.FixedBody None at 0x7ff535677af0>           8672             0   2245+034         999999   \n",
        "380  2031+123  0.001  20:31:54.994279   12:19:41.340430      0.15  307.979143  12.328150  <ephem.FixedBody None at 0x7ff5356776e8>           7952             0   2031+123         999999   \n",
        "379  2025+032  0.001  20:25:09.632168   03:16:44.505300      0.15  306.290134   3.279029  <ephem.FixedBody None at 0x7ff535677590>           7919             0   2025+032         999999   \n",
        "378  2007+066  0.005    20:07:11.9152      06:36:44.596      0.15  301.799647   6.612388  <ephem.FixedBody None at 0x7ff535677438>           7817             0   2007+066         999999   \n",
        "\n",
        "      separation_y check_id_y  \n",
        "0     20064.909598   1256-057  \n",
        "383  999999.000000   2245+034  \n",
        "380  999999.000000   2031+123  \n",
        "379  999999.000000   2025+032  \n",
        "378  999999.000000   2007+066  "
       ]
      }
     ],
     "prompt_number": 25
    },
    {
     "cell_type": "code",
     "collapsed": false,
     "input": [
      "vla_weak_df.apply(lambda r: match(r['coord_vla'], r['DEC'], r['vla_name'], weak, 'weak', catalogue_coord='coord_weak_vlbi'), axis=1))"
     ],
     "language": "python",
     "metadata": {},
     "outputs": [
      {
       "html": [
        "<div style=\"max-height:1000px;max-width:1500px;overflow:auto;\">\n",
        "<table border=\"1\" class=\"dataframe\">\n",
        "  <thead>\n",
        "    <tr style=\"text-align: right;\">\n",
        "      <th></th>\n",
        "      <th>vla_name</th>\n",
        "      <th>p_err</th>\n",
        "      <th>ra</th>\n",
        "      <th>dec</th>\n",
        "      <th>est_flux</th>\n",
        "      <th>RA</th>\n",
        "      <th>DEC</th>\n",
        "      <th>coord_vla</th>\n",
        "      <th>match_vlbi_id</th>\n",
        "      <th>separation_x</th>\n",
        "      <th>check_id_x</th>\n",
        "      <th>match_weak_id</th>\n",
        "      <th>separation_y</th>\n",
        "      <th>check_id_y</th>\n",
        "    </tr>\n",
        "  </thead>\n",
        "  <tbody>\n",
        "    <tr>\n",
        "      <th>0  </th>\n",
        "      <td> 1256-057</td>\n",
        "      <td> 0.005</td>\n",
        "      <td> 12:56:11.166560</td>\n",
        "      <td> -05:47:21.524580</td>\n",
        "      <td> 12.35</td>\n",
        "      <td> 194.046527</td>\n",
        "      <td> -5.789312</td>\n",
        "      <td> &lt;ephem.FixedBody None at 0x7ff5356a4da0&gt;</td>\n",
        "      <td> 5016</td>\n",
        "      <td> 0</td>\n",
        "      <td> 1256-057</td>\n",
        "      <td>    353</td>\n",
        "      <td>  20064.909598</td>\n",
        "      <td> 1256-057</td>\n",
        "    </tr>\n",
        "    <tr>\n",
        "      <th>383</th>\n",
        "      <td> 2245+034</td>\n",
        "      <td> 0.001</td>\n",
        "      <td> 22:45:28.284772</td>\n",
        "      <td>  03:24:08.864310</td>\n",
        "      <td>  0.15</td>\n",
        "      <td> 341.367853</td>\n",
        "      <td>  3.402462</td>\n",
        "      <td> &lt;ephem.FixedBody None at 0x7ff535677af0&gt;</td>\n",
        "      <td> 8672</td>\n",
        "      <td> 0</td>\n",
        "      <td> 2245+034</td>\n",
        "      <td> 999999</td>\n",
        "      <td> 999999.000000</td>\n",
        "      <td> 2245+034</td>\n",
        "    </tr>\n",
        "    <tr>\n",
        "      <th>380</th>\n",
        "      <td> 2031+123</td>\n",
        "      <td> 0.001</td>\n",
        "      <td> 20:31:54.994279</td>\n",
        "      <td>  12:19:41.340430</td>\n",
        "      <td>  0.15</td>\n",
        "      <td> 307.979143</td>\n",
        "      <td> 12.328150</td>\n",
        "      <td> &lt;ephem.FixedBody None at 0x7ff5356776e8&gt;</td>\n",
        "      <td> 7952</td>\n",
        "      <td> 0</td>\n",
        "      <td> 2031+123</td>\n",
        "      <td> 999999</td>\n",
        "      <td> 999999.000000</td>\n",
        "      <td> 2031+123</td>\n",
        "    </tr>\n",
        "    <tr>\n",
        "      <th>379</th>\n",
        "      <td> 2025+032</td>\n",
        "      <td> 0.001</td>\n",
        "      <td> 20:25:09.632168</td>\n",
        "      <td>  03:16:44.505300</td>\n",
        "      <td>  0.15</td>\n",
        "      <td> 306.290134</td>\n",
        "      <td>  3.279029</td>\n",
        "      <td> &lt;ephem.FixedBody None at 0x7ff535677590&gt;</td>\n",
        "      <td> 7919</td>\n",
        "      <td> 0</td>\n",
        "      <td> 2025+032</td>\n",
        "      <td> 999999</td>\n",
        "      <td> 999999.000000</td>\n",
        "      <td> 2025+032</td>\n",
        "    </tr>\n",
        "    <tr>\n",
        "      <th>378</th>\n",
        "      <td> 2007+066</td>\n",
        "      <td> 0.005</td>\n",
        "      <td>   20:07:11.9152</td>\n",
        "      <td>     06:36:44.596</td>\n",
        "      <td>  0.15</td>\n",
        "      <td> 301.799647</td>\n",
        "      <td>  6.612388</td>\n",
        "      <td> &lt;ephem.FixedBody None at 0x7ff535677438&gt;</td>\n",
        "      <td> 7817</td>\n",
        "      <td> 0</td>\n",
        "      <td> 2007+066</td>\n",
        "      <td> 999999</td>\n",
        "      <td> 999999.000000</td>\n",
        "      <td> 2007+066</td>\n",
        "    </tr>\n",
        "  </tbody>\n",
        "</table>\n",
        "</div>"
       ],
       "metadata": {},
       "output_type": "pyout",
       "prompt_number": 24,
       "text": [
        "     vla_name  p_err               ra               dec  est_flux          RA        DEC                                 coord_vla  match_vlbi_id  separation_x check_id_x  match_weak_id  \\\n",
        "0    1256-057  0.005  12:56:11.166560  -05:47:21.524580     12.35  194.046527  -5.789312  <ephem.FixedBody None at 0x7ff5356a4da0>           5016             0   1256-057            353   \n",
        "383  2245+034  0.001  22:45:28.284772   03:24:08.864310      0.15  341.367853   3.402462  <ephem.FixedBody None at 0x7ff535677af0>           8672             0   2245+034         999999   \n",
        "380  2031+123  0.001  20:31:54.994279   12:19:41.340430      0.15  307.979143  12.328150  <ephem.FixedBody None at 0x7ff5356776e8>           7952             0   2031+123         999999   \n",
        "379  2025+032  0.001  20:25:09.632168   03:16:44.505300      0.15  306.290134   3.279029  <ephem.FixedBody None at 0x7ff535677590>           7919             0   2025+032         999999   \n",
        "378  2007+066  0.005    20:07:11.9152      06:36:44.596      0.15  301.799647   6.612388  <ephem.FixedBody None at 0x7ff535677438>           7817             0   2007+066         999999   \n",
        "\n",
        "      separation_y check_id_y  \n",
        "0     20064.909598   1256-057  \n",
        "383  999999.000000   2245+034  \n",
        "380  999999.000000   2031+123  \n",
        "379  999999.000000   2025+032  \n",
        "378  999999.000000   2007+066  "
       ]
      }
     ],
     "prompt_number": 24
    },
    {
     "cell_type": "code",
     "collapsed": false,
     "input": [
      "plot(vla_weak_df.RA, vla_weak_df.DEC, 'k.')"
     ],
     "language": "python",
     "metadata": {},
     "outputs": []
    },
    {
     "cell_type": "code",
     "collapsed": false,
     "input": [
      "vlaWeak_df = pd.merge(vla_weak_df, vlbi_df, left_on='match_vlbi_id', right_index=True, how='left')"
     ],
     "language": "python",
     "metadata": {},
     "outputs": [],
     "prompt_number": 26
    },
    {
     "cell_type": "code",
     "collapsed": true,
     "input": [
      "vlaWeak_df.head()"
     ],
     "language": "python",
     "metadata": {},
     "outputs": [
      {
       "html": [
        "<div style=\"max-height:1000px;max-width:1500px;overflow:auto;\">\n",
        "<table border=\"1\" class=\"dataframe\">\n",
        "  <thead>\n",
        "    <tr style=\"text-align: right;\">\n",
        "      <th></th>\n",
        "      <th>vla_name</th>\n",
        "      <th>p_err</th>\n",
        "      <th>ra</th>\n",
        "      <th>dec</th>\n",
        "      <th>est_flux</th>\n",
        "      <th>RA_x</th>\n",
        "      <th>DEC_x</th>\n",
        "      <th>coord_vla</th>\n",
        "      <th>match_vlbi_id</th>\n",
        "      <th>separation_x</th>\n",
        "      <th>check_id_x</th>\n",
        "      <th>match_weak_id</th>\n",
        "      <th>separation_y</th>\n",
        "      <th>check_id_y</th>\n",
        "      <th>Category</th>\n",
        "      <th>IVS</th>\n",
        "      <th>name</th>\n",
        "      <th>ra_h</th>\n",
        "      <th>ra_m</th>\n",
        "      <th>ra_s</th>\n",
        "      <th>dec_d</th>\n",
        "      <th>dec_m</th>\n",
        "      <th>dec_s</th>\n",
        "      <th>ra_err</th>\n",
        "      <th>dec_err</th>\n",
        "      <th>ra_dec_corr</th>\n",
        "      <th>numobs</th>\n",
        "      <th>RA_y</th>\n",
        "      <th>DEC_y</th>\n",
        "      <th>coord_vlbi</th>\n",
        "    </tr>\n",
        "  </thead>\n",
        "  <tbody>\n",
        "    <tr>\n",
        "      <th>0  </th>\n",
        "      <td> 1256-057</td>\n",
        "      <td> 0.005</td>\n",
        "      <td> 12:56:11.166560</td>\n",
        "      <td> -05:47:21.524580</td>\n",
        "      <td> 12.35</td>\n",
        "      <td> 194.046527</td>\n",
        "      <td> -5.789312</td>\n",
        "      <td> &lt;ephem.FixedBody None at 0x7ff5356a4da0&gt;</td>\n",
        "      <td> 5016</td>\n",
        "      <td> 0</td>\n",
        "      <td> 1256-057</td>\n",
        "      <td>    353</td>\n",
        "      <td>  20064.909598</td>\n",
        "      <td> 1256-057</td>\n",
        "      <td> C</td>\n",
        "      <td>    3C279</td>\n",
        "      <td> J1256-0547</td>\n",
        "      <td> 12</td>\n",
        "      <td> 56</td>\n",
        "      <td> 11.166560</td>\n",
        "      <td> -05</td>\n",
        "      <td> 47</td>\n",
        "      <td> 21.52487</td>\n",
        "      <td> 0.10</td>\n",
        "      <td> 0.10</td>\n",
        "      <td>-0.061</td>\n",
        "      <td> 8028</td>\n",
        "      <td> 194.046527</td>\n",
        "      <td> -5.789312</td>\n",
        "      <td> &lt;ephem.FixedBody None at 0x7ff5359a32e0&gt;</td>\n",
        "    </tr>\n",
        "    <tr>\n",
        "      <th>383</th>\n",
        "      <td> 2245+034</td>\n",
        "      <td> 0.001</td>\n",
        "      <td> 22:45:28.284772</td>\n",
        "      <td>  03:24:08.864310</td>\n",
        "      <td>  0.15</td>\n",
        "      <td> 341.367853</td>\n",
        "      <td>  3.402462</td>\n",
        "      <td> &lt;ephem.FixedBody None at 0x7ff535677af0&gt;</td>\n",
        "      <td> 8672</td>\n",
        "      <td> 0</td>\n",
        "      <td> 2245+034</td>\n",
        "      <td> 999999</td>\n",
        "      <td> 999999.000000</td>\n",
        "      <td> 2245+034</td>\n",
        "      <td> C</td>\n",
        "      <td> 2242+031</td>\n",
        "      <td> J2245+0324</td>\n",
        "      <td> 22</td>\n",
        "      <td> 45</td>\n",
        "      <td> 28.284727</td>\n",
        "      <td> +03</td>\n",
        "      <td> 24</td>\n",
        "      <td>  8.86406</td>\n",
        "      <td> 0.16</td>\n",
        "      <td> 0.29</td>\n",
        "      <td>-0.086</td>\n",
        "      <td>  130</td>\n",
        "      <td> 341.367853</td>\n",
        "      <td>  3.402462</td>\n",
        "      <td> &lt;ephem.FixedBody None at 0x7ff53586f840&gt;</td>\n",
        "    </tr>\n",
        "    <tr>\n",
        "      <th>380</th>\n",
        "      <td> 2031+123</td>\n",
        "      <td> 0.001</td>\n",
        "      <td> 20:31:54.994279</td>\n",
        "      <td>  12:19:41.340430</td>\n",
        "      <td>  0.15</td>\n",
        "      <td> 307.979143</td>\n",
        "      <td> 12.328150</td>\n",
        "      <td> &lt;ephem.FixedBody None at 0x7ff5356776e8&gt;</td>\n",
        "      <td> 7952</td>\n",
        "      <td> 0</td>\n",
        "      <td> 2031+123</td>\n",
        "      <td> 999999</td>\n",
        "      <td> 999999.000000</td>\n",
        "      <td> 2031+123</td>\n",
        "      <td> C</td>\n",
        "      <td> 2029+121</td>\n",
        "      <td> J2031+1219</td>\n",
        "      <td> 20</td>\n",
        "      <td> 31</td>\n",
        "      <td> 54.994268</td>\n",
        "      <td> +12</td>\n",
        "      <td> 19</td>\n",
        "      <td> 41.34026</td>\n",
        "      <td> 0.10</td>\n",
        "      <td> 0.10</td>\n",
        "      <td> 0.010</td>\n",
        "      <td> 3037</td>\n",
        "      <td> 307.979143</td>\n",
        "      <td> 12.328150</td>\n",
        "      <td> &lt;ephem.FixedBody None at 0x7ff5358ae188&gt;</td>\n",
        "    </tr>\n",
        "    <tr>\n",
        "      <th>379</th>\n",
        "      <td> 2025+032</td>\n",
        "      <td> 0.001</td>\n",
        "      <td> 20:25:09.632168</td>\n",
        "      <td>  03:16:44.505300</td>\n",
        "      <td>  0.15</td>\n",
        "      <td> 306.290134</td>\n",
        "      <td>  3.279029</td>\n",
        "      <td> &lt;ephem.FixedBody None at 0x7ff535677590&gt;</td>\n",
        "      <td> 7919</td>\n",
        "      <td> 0</td>\n",
        "      <td> 2025+032</td>\n",
        "      <td> 999999</td>\n",
        "      <td> 999999.000000</td>\n",
        "      <td> 2025+032</td>\n",
        "      <td> C</td>\n",
        "      <td> 2022+031</td>\n",
        "      <td> J2025+0316</td>\n",
        "      <td> 20</td>\n",
        "      <td> 25</td>\n",
        "      <td>  9.632153</td>\n",
        "      <td> +03</td>\n",
        "      <td> 16</td>\n",
        "      <td> 44.50439</td>\n",
        "      <td> 0.17</td>\n",
        "      <td> 0.28</td>\n",
        "      <td>-0.061</td>\n",
        "      <td>  149</td>\n",
        "      <td> 306.290134</td>\n",
        "      <td>  3.279029</td>\n",
        "      <td> &lt;ephem.FixedBody None at 0x7ff5358ab188&gt;</td>\n",
        "    </tr>\n",
        "    <tr>\n",
        "      <th>378</th>\n",
        "      <td> 2007+066</td>\n",
        "      <td> 0.005</td>\n",
        "      <td>   20:07:11.9152</td>\n",
        "      <td>     06:36:44.596</td>\n",
        "      <td>  0.15</td>\n",
        "      <td> 301.799647</td>\n",
        "      <td>  6.612388</td>\n",
        "      <td> &lt;ephem.FixedBody None at 0x7ff535677438&gt;</td>\n",
        "      <td> 7817</td>\n",
        "      <td> 0</td>\n",
        "      <td> 2007+066</td>\n",
        "      <td> 999999</td>\n",
        "      <td> 999999.000000</td>\n",
        "      <td> 2007+066</td>\n",
        "      <td> C</td>\n",
        "      <td> 2004+064</td>\n",
        "      <td> J2007+0636</td>\n",
        "      <td> 20</td>\n",
        "      <td>  7</td>\n",
        "      <td> 11.915298</td>\n",
        "      <td> +06</td>\n",
        "      <td> 36</td>\n",
        "      <td> 44.59625</td>\n",
        "      <td> 0.12</td>\n",
        "      <td> 0.17</td>\n",
        "      <td>-0.115</td>\n",
        "      <td>  237</td>\n",
        "      <td> 301.799647</td>\n",
        "      <td>  6.612388</td>\n",
        "      <td> &lt;ephem.FixedBody None at 0x7ff5358a1c48&gt;</td>\n",
        "    </tr>\n",
        "  </tbody>\n",
        "</table>\n",
        "</div>"
       ],
       "metadata": {},
       "output_type": "pyout",
       "prompt_number": 72,
       "text": [
        "     vla_name  p_err               ra               dec  est_flux        RA_x      DEC_x                                 coord_vla  match_vlbi_id  separation_x check_id_x  match_weak_id  \\\n",
        "0    1256-057  0.005  12:56:11.166560  -05:47:21.524580     12.35  194.046527  -5.789312  <ephem.FixedBody None at 0x7ff5356a4da0>           5016             0   1256-057            353   \n",
        "383  2245+034  0.001  22:45:28.284772   03:24:08.864310      0.15  341.367853   3.402462  <ephem.FixedBody None at 0x7ff535677af0>           8672             0   2245+034         999999   \n",
        "380  2031+123  0.001  20:31:54.994279   12:19:41.340430      0.15  307.979143  12.328150  <ephem.FixedBody None at 0x7ff5356776e8>           7952             0   2031+123         999999   \n",
        "379  2025+032  0.001  20:25:09.632168   03:16:44.505300      0.15  306.290134   3.279029  <ephem.FixedBody None at 0x7ff535677590>           7919             0   2025+032         999999   \n",
        "378  2007+066  0.005    20:07:11.9152      06:36:44.596      0.15  301.799647   6.612388  <ephem.FixedBody None at 0x7ff535677438>           7817             0   2007+066         999999   \n",
        "\n",
        "      separation_y check_id_y Category       IVS        name  ra_h  ra_m       ra_s dec_d  dec_m     dec_s  ra_err  dec_err  ra_dec_corr  numobs        RA_y      DEC_y  \\\n",
        "0     20064.909598   1256-057        C     3C279  J1256-0547    12    56  11.166560   -05     47  21.52487    0.10     0.10       -0.061    8028  194.046527  -5.789312   \n",
        "383  999999.000000   2245+034        C  2242+031  J2245+0324    22    45  28.284727   +03     24   8.86406    0.16     0.29       -0.086     130  341.367853   3.402462   \n",
        "380  999999.000000   2031+123        C  2029+121  J2031+1219    20    31  54.994268   +12     19  41.34026    0.10     0.10        0.010    3037  307.979143  12.328150   \n",
        "379  999999.000000   2025+032        C  2022+031  J2025+0316    20    25   9.632153   +03     16  44.50439    0.17     0.28       -0.061     149  306.290134   3.279029   \n",
        "378  999999.000000   2007+066        C  2004+064  J2007+0636    20     7  11.915298   +06     36  44.59625    0.12     0.17       -0.115     237  301.799647   6.612388   \n",
        "\n",
        "                                   coord_vlbi  \n",
        "0    <ephem.FixedBody None at 0x7ff5359a32e0>  \n",
        "383  <ephem.FixedBody None at 0x7ff53586f840>  \n",
        "380  <ephem.FixedBody None at 0x7ff5358ae188>  \n",
        "379  <ephem.FixedBody None at 0x7ff5358ab188>  \n",
        "378  <ephem.FixedBody None at 0x7ff5358a1c48>  "
       ]
      }
     ],
     "prompt_number": 72
    },
    {
     "cell_type": "code",
     "collapsed": false,
     "input": [
      "vlaWeak_df.groupby('vla_name').RA_x.count()[vlaWeak_df.groupby('vla_name').RA_x.count() > 1]"
     ],
     "language": "python",
     "metadata": {},
     "outputs": [
      {
       "metadata": {},
       "output_type": "pyout",
       "prompt_number": 59,
       "text": [
        "vla_name\n",
        "0632+159    2\n",
        "1300+142    2\n",
        "1914+166    2\n",
        "Name: RA_x, dtype: int64"
       ]
      }
     ],
     "prompt_number": 59
    },
    {
     "cell_type": "code",
     "collapsed": false,
     "input": [
      "vla_sep_grid = vlaWeak_df.apply(lambda r: match(r['coord_vlbi'], r['DEC_y'], r.name, grids_df, 'grid', catalogue_coord='coord_grid', dec_sep=30.0), axis=1)"
     ],
     "language": "python",
     "metadata": {},
     "outputs": [],
     "prompt_number": 63
    },
    {
     "cell_type": "code",
     "collapsed": false,
     "input": [
      "len(vla_sep_grid)"
     ],
     "language": "python",
     "metadata": {},
     "outputs": [
      {
       "metadata": {},
       "output_type": "pyout",
       "prompt_number": 65,
       "text": [
        "890"
       ]
      }
     ],
     "prompt_number": 65
    },
    {
     "cell_type": "code",
     "collapsed": false,
     "input": [
      "vlaWeakGrid_df = pd.merge(vlaWeak_df, vla_sep_grid, left_index=True, right_on='check_id')"
     ],
     "language": "python",
     "metadata": {},
     "outputs": [],
     "prompt_number": 66
    },
    {
     "cell_type": "code",
     "collapsed": false,
     "input": [
      "vlaWeakGrid_df.columns"
     ],
     "language": "python",
     "metadata": {},
     "outputs": [
      {
       "metadata": {},
       "output_type": "pyout",
       "prompt_number": 68,
       "text": [
        "Index([u'vla_name', u'p_err', u'ra', u'dec', u'est_flux', u'RA_x', u'DEC_x', u'coord_vla', u'match_vlbi_id', u'separation_x', u'check_id_x', u'match_weak_id', u'separation_y', u'check_id_y', u'Category', u'IVS', u'name', u'ra_h', u'ra_m', u'ra_s', u'dec_d', u'dec_m', u'dec_s', u'ra_err', u'dec_err', u'ra_dec_corr', u'numobs', u'RA_y', u'DEC_y', u'coord_vlbi', u'match_grid_id', u'separation', u'check_id'], dtype='object')"
       ]
      }
     ],
     "prompt_number": 68
    },
    {
     "cell_type": "code",
     "collapsed": false,
     "input": [
      "vlaWeakGrid_df = vlaWeakGrid_df[[u'vla_name', u'RA_x', u'DEC_x', u'est_flux', u'match_vlbi_id', u'separation_x', u'Category', u'IVS', u'name', u'RA_y', u'DEC_y', u'match_grid_id', u'separation', u'check_id']]"
     ],
     "language": "python",
     "metadata": {},
     "outputs": [],
     "prompt_number": 73
    },
    {
     "cell_type": "code",
     "collapsed": false,
     "input": [
      "vlaWeakGrid_df.columns = pd.Index([u'vla_name', u'RA_vla', u'DEC_vla', u'est_flux_vla', u'match_vlbi_id', u'separation_vlbi', u'Category', u'IVS', u'name_vlbi', u'RA_vlbi', u'DEC_vlbi', u'close_grid', u'separation_grid', u'check_id'], dtype='object')"
     ],
     "language": "python",
     "metadata": {},
     "outputs": [],
     "prompt_number": 75
    },
    {
     "cell_type": "code",
     "collapsed": false,
     "input": [
      "vlaWeakGrid_df[[u'vla_name', u'RA_vla', u'DEC_vla', u'est_flux_vla', u'match_vlbi_id', u'separation_vlbi', u'Category', u'IVS', u'name_vlbi', u'RA_vlbi', u'DEC_vlbi', u'close_grid', u'separation_grid']].to_excel('/home/itoledo/Downloads/VLAcand_v2.xls')"
     ],
     "language": "python",
     "metadata": {},
     "outputs": [],
     "prompt_number": 80
    },
    {
     "cell_type": "code",
     "collapsed": false,
     "input": [],
     "language": "python",
     "metadata": {},
     "outputs": []
    }
   ],
   "metadata": {}
  }
 ]
}