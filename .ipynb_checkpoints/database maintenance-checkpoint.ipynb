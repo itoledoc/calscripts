{
 "metadata": {
  "name": "",
  "signature": "sha256:60f52102ded52cc60454eabd850e699ce767e4f04885b0d4236c1534c46b918e"
 },
 "nbformat": 3,
 "nbformat_minor": 0,
 "worksheets": [
  {
   "cells": [
    {
     "cell_type": "markdown",
     "metadata": {},
     "source": [
      "# Database Maintenance\n",
      "\n",
      "## Initialize\n",
      "Initial import of libraries and establish connection with Archive"
     ]
    },
    {
     "cell_type": "code",
     "collapsed": false,
     "input": [
      "import cx_Oracle\n",
      "import pandas as pd\n",
      "import numpy as np\n",
      "import ephem\n",
      "\n",
      "pd.options.display.width = 200\n",
      "pd.options.display.max_columns = 100\n",
      "\n",
      "conx_string = 'almasu/alma4dba@ALMA_ONLINE.OSF.CL'\n",
      "connection = cx_Oracle.connect(conx_string)\n",
      "cursor = connection.cursor()"
     ],
     "language": "python",
     "metadata": {},
     "outputs": [],
     "prompt_number": 102
    },
    {
     "cell_type": "markdown",
     "metadata": {},
     "source": [
      "## def calc_ra:\n",
      "Convert RA from seg. to deg."
     ]
    },
    {
     "cell_type": "code",
     "collapsed": false,
     "input": [
      "def calc_ra(h, m, s):\n",
      "    ra = h * 15. + m * 15. / 60 + s * 15. / 3600.\n",
      "    return ra"
     ],
     "language": "python",
     "metadata": {},
     "outputs": [],
     "prompt_number": 91
    },
    {
     "cell_type": "markdown",
     "metadata": {},
     "source": [
      "## def split_ra:\n",
      "Converts an RA seg. string list to degrees. Input is ['hh', 'mm', 'ss']"
     ]
    },
    {
     "cell_type": "code",
     "collapsed": false,
     "input": [
      "def split_ra(lista):\n",
      "    hour = float(lista[0]) * 15.\n",
      "    minu = float(lista[1]) * 15. / 60.\n",
      "    sec = float(lista[2]) * 15. / 3600.\n",
      "    return hour + minu + sec"
     ],
     "language": "python",
     "metadata": {},
     "outputs": [],
     "prompt_number": 92
    },
    {
     "cell_type": "markdown",
     "metadata": {},
     "source": [
      "## def calc_dec: \n",
      "Convert DEC from seg. to deg."
     ]
    },
    {
     "cell_type": "code",
     "collapsed": false,
     "input": [
      "def calc_dec(d, m, s):\n",
      "    d_int = pd.np.int16(d)\n",
      "    if d.startswith('-'):\n",
      "        dec = d_int - m / 60. - s / 3600.\n",
      "    else:\n",
      "        dec = d_int + m / 60. + s / 3600.\n",
      "    return dec"
     ],
     "language": "python",
     "metadata": {},
     "outputs": [],
     "prompt_number": 93
    },
    {
     "cell_type": "markdown",
     "metadata": {},
     "source": [
      "## def splict_dec:\n",
      "Converts an DEC seg. string list to degrees. Input is ['dd', 'mm', 'ss']"
     ]
    },
    {
     "cell_type": "code",
     "collapsed": false,
     "input": [
      "def split_dec(lista):\n",
      "    if float(lista[0]) == 0 and lista[0].startswith('-'):\n",
      "        signo = -1.\n",
      "    elif float(lista[0]) < 0:\n",
      "        signo = -1\n",
      "    else:\n",
      "        signo = 1\n",
      "\n",
      "    deg = float(lista[0])\n",
      "    minu = signo * float(lista[1]) / 60.\n",
      "    sec = signo * float(lista[2]) / 3600.\n",
      "    return deg + minu + sec"
     ],
     "language": "python",
     "metadata": {},
     "outputs": [],
     "prompt_number": 94
    },
    {
     "cell_type": "markdown",
     "metadata": {},
     "source": [
      "## def create_obj:\n",
      "Create a coordinate object using pyephem library. It is the fastest way to calculate distances later"
     ]
    },
    {
     "cell_type": "code",
     "collapsed": false,
     "input": [
      "def create_obj(ra, dec):\n",
      "    obj = ephem.FixedBody()\n",
      "    obj._ra = pd.np.radians(ra)\n",
      "    obj._dec = pd.np.radians(dec)\n",
      "    obj.compute()\n",
      "    return obj"
     ],
     "language": "python",
     "metadata": {},
     "outputs": [],
     "prompt_number": 95
    },
    {
     "cell_type": "markdown",
     "metadata": {},
     "source": [
      "## def distance:\n",
      "Calculate the separation between two ephem coordinate objects, in arcsec."
     ]
    },
    {
     "cell_type": "code",
     "collapsed": false,
     "input": [
      "def distance(coord1, coord2):\n",
      "    return np.degrees(ephem.separation(coord1, coord2)) * 3600."
     ],
     "language": "python",
     "metadata": {},
     "outputs": [],
     "prompt_number": 36
    },
    {
     "cell_type": "code",
     "collapsed": false,
     "input": [
      "def match_alma(coord, dec, name, sources_cat):\n",
      "    sel = sources_cat[(sources_cat.DEC > dec - 0.5) &\n",
      "                      (sources_cat.DEC < dec + 0.5)]\n",
      "    ids = sel.apply(\n",
      "        lambda r: distance(coord, r['coord']), axis=1)\n",
      "    try:\n",
      "        idx = ids.idxmin()\n",
      "        idm = ids.min()\n",
      "    except ValueError or IndexError:\n",
      "        idx = 999999\n",
      "        idm = 999999\n",
      "\n",
      "    return pd.Series([idx, idm, name],\n",
      "                     index=['match_alma', 'distance', 'name'])"
     ],
     "language": "python",
     "metadata": {},
     "outputs": [],
     "prompt_number": 86
    },
    {
     "cell_type": "code",
     "collapsed": false,
     "input": [
      "def closest_alma(coord, dec, name, sources_cat):\n",
      "    sel = sources_cat[(sources_cat.DEC > dec - 0.5) &\n",
      "                      (sources_cat.DEC < dec + 0.5)]\n",
      "    ids = sel.apply(\n",
      "        lambda r: distance(coord, r['coord']), axis=1)\n",
      "    try:\n",
      "        ids.sort()\n",
      "        idx = ids.index[1]\n",
      "        idm = ids.iloc[1]\n",
      "    except IndexError:\n",
      "        idx = 999999\n",
      "        idm = 999999\n",
      "\n",
      "    return pd.Series([idx, idm, name],\n",
      "                     index=['closest', 'distance', 'check_id'])"
     ],
     "language": "python",
     "metadata": {},
     "outputs": [],
     "prompt_number": 96
    },
    {
     "cell_type": "markdown",
     "metadata": {},
     "source": [
      "## Query archive\n",
      "And creates a DataFrame object (**measurements_df**)."
     ]
    },
    {
     "cell_type": "code",
     "collapsed": false,
     "input": [
      "cursor.execute('SELECT * FROM SOURCECATALOGUE.MEASUREMENTS')\n",
      "measurements_df = pd.DataFrame(\n",
      "    cursor.fetchall(),\n",
      "    columns=[rec[0] for rec in cursor.description])"
     ],
     "language": "python",
     "metadata": {},
     "outputs": [],
     "prompt_number": 98
    },
    {
     "cell_type": "markdown",
     "metadata": {},
     "source": [
      "Now we construct a DataFrame that has only one \"mesurement\" by source. The DataFrame is called **sources_from_ms_df**."
     ]
    },
    {
     "cell_type": "code",
     "collapsed": false,
     "input": [
      "sources_from_ms_df = measurements_df.sort('DATE_OBSERVED', ascending=False).groupby('SOURCE_ID').first()\n",
      "sources_from_ms_df['SOURCE_ID'] = sources_from_ms_df.index"
     ],
     "language": "python",
     "metadata": {},
     "outputs": [],
     "prompt_number": 99
    },
    {
     "cell_type": "code",
     "collapsed": false,
     "input": [
      "sources_from_ms_df['coord'] = sources_from_ms_df.apply(\n",
      "    lambda r: create_obj(r['RA'], r['DEC']),\n",
      "    axis=1)"
     ],
     "language": "python",
     "metadata": {},
     "outputs": [],
     "prompt_number": 100
    },
    {
     "cell_type": "markdown",
     "metadata": {},
     "source": [
      "## Find duplicate sources:\n",
      "\n",
      "* The following lines will try to find duplicate sources (and measurements?). Each source, identified by SOURCE_ID, should be unique and do not have the same coordinates as any other source."
     ]
    },
    {
     "cell_type": "code",
     "collapsed": false,
     "input": [
      "closest_df = sources_from_ms_df.apply(lambda r: closest_alma(r['coord'], r['DEC'], r['SOURCE_ID'], sources_from_ms_df), axis=1)"
     ],
     "language": "python",
     "metadata": {},
     "outputs": [],
     "prompt_number": 101
    },
    {
     "cell_type": "code",
     "collapsed": false,
     "input": [
      "duplicates = pd.merge(sources_from_ms_df, closest_df[closest_df.distance < 5].sort('distance'), right_index=True, left_index=True, how='right')"
     ],
     "language": "python",
     "metadata": {},
     "outputs": [],
     "prompt_number": 128
    },
    {
     "cell_type": "markdown",
     "metadata": {},
     "source": [
      "* As a first priority, we look for all sources that have measurements belonging to the ALMA catalogue (ID=5), and the check with of these have duplicate sources."
     ]
    },
    {
     "cell_type": "code",
     "collapsed": false,
     "input": [
      "alma_sources = pd.DataFrame(measurements_df[measurements_df.CATALOGUE_ID == 5].SOURCE_ID.unique(), columns=['SOURCE_ID'])\n",
      "duplicates_cat5 = pd.merge(duplicates, alma_sources, left_index=True, right_on='SOURCE_ID')[['SOURCE_ID','distance', 'closest', 'check_id', 'ORIGIN', 'DATE_CREATED']]\n",
      "duplicates_cat5[(duplicates_cat5.SOURCE_ID != duplicates_cat5.closest)]"
     ],
     "language": "python",
     "metadata": {},
     "outputs": [
      {
       "html": [
        "<div style=\"max-height:1000px;max-width:1500px;overflow:auto;\">\n",
        "<table border=\"1\" class=\"dataframe\">\n",
        "  <thead>\n",
        "    <tr style=\"text-align: right;\">\n",
        "      <th></th>\n",
        "      <th>SOURCE_ID</th>\n",
        "      <th>distance</th>\n",
        "      <th>closest</th>\n",
        "      <th>check_id</th>\n",
        "      <th>ORIGIN</th>\n",
        "      <th>DATE_CREATED</th>\n",
        "    </tr>\n",
        "  </thead>\n",
        "  <tbody>\n",
        "    <tr>\n",
        "      <th>269</th>\n",
        "      <td>  2732</td>\n",
        "      <td> 0.000000</td>\n",
        "      <td>  2731</td>\n",
        "      <td>  2732</td>\n",
        "      <td> ALMA_CalSurveyResults_uid___A002_X77b3a1_X9d6_...</td>\n",
        "      <td>2014-05-30 14:21:48.088102912</td>\n",
        "    </tr>\n",
        "    <tr>\n",
        "      <th>36 </th>\n",
        "      <td>  3088</td>\n",
        "      <td> 0.000000</td>\n",
        "      <td>  3089</td>\n",
        "      <td>  3088</td>\n",
        "      <td> ALMA_CalSurveyResults_uid___A002_X8b7acb_Xf68_...</td>\n",
        "      <td>2014-10-08 08:41:17.409329920</td>\n",
        "    </tr>\n",
        "    <tr>\n",
        "      <th>32 </th>\n",
        "      <td>  7846</td>\n",
        "      <td> 0.000000</td>\n",
        "      <td>  7847</td>\n",
        "      <td>  7846</td>\n",
        "      <td> ALMA_Calibration_Grid_survey_results_B3_2012-0...</td>\n",
        "      <td>2014-05-30 14:21:59.512609024</td>\n",
        "    </tr>\n",
        "    <tr>\n",
        "      <th>443</th>\n",
        "      <td>  1321</td>\n",
        "      <td> 0.000000</td>\n",
        "      <td>  1318</td>\n",
        "      <td>  1321</td>\n",
        "      <td> ALMA_Calibration_Cone_survey_results_B7_J0238+...</td>\n",
        "      <td>2014-05-30 14:21:43.204284928</td>\n",
        "    </tr>\n",
        "    <tr>\n",
        "      <th>233</th>\n",
        "      <td>  5466</td>\n",
        "      <td> 0.003074</td>\n",
        "      <td>  5467</td>\n",
        "      <td>  5466</td>\n",
        "      <td>                       Cycle1_reduction_2014-05-08</td>\n",
        "      <td>2014-09-24 19:16:09.257131008</td>\n",
        "    </tr>\n",
        "    <tr>\n",
        "      <th>10 </th>\n",
        "      <td>  5467</td>\n",
        "      <td> 0.003074</td>\n",
        "      <td>  5466</td>\n",
        "      <td>  5467</td>\n",
        "      <td> ALMA_CalSurveyResults_uid___A002_X8a951a_X77_g...</td>\n",
        "      <td>2014-09-13 05:37:24.461071872</td>\n",
        "    </tr>\n",
        "    <tr>\n",
        "      <th>53 </th>\n",
        "      <td>  8258</td>\n",
        "      <td> 0.006873</td>\n",
        "      <td>  8259</td>\n",
        "      <td>  8258</td>\n",
        "      <td> ALMA_CalSurveyResults_uid___A002_X779b0a_X1d8e...</td>\n",
        "      <td>2014-05-30 14:22:00.897817088</td>\n",
        "    </tr>\n",
        "    <tr>\n",
        "      <th>279</th>\n",
        "      <td>   408</td>\n",
        "      <td> 0.029320</td>\n",
        "      <td> 12135</td>\n",
        "      <td>   408</td>\n",
        "      <td> ALMA_CalSurveyResults_uid___A002_X77b3a1_X108_...</td>\n",
        "      <td>2014-05-30 14:21:40.579336960</td>\n",
        "    </tr>\n",
        "    <tr>\n",
        "      <th>238</th>\n",
        "      <td>  5753</td>\n",
        "      <td> 0.061164</td>\n",
        "      <td> 12559</td>\n",
        "      <td>  5753</td>\n",
        "      <td> ALMA_CalSurveyResults_uid___A002_X779b0a_Xfa3_...</td>\n",
        "      <td>2014-05-30 14:21:53.539192064</td>\n",
        "    </tr>\n",
        "    <tr>\n",
        "      <th>454</th>\n",
        "      <td> 10321</td>\n",
        "      <td> 0.071490</td>\n",
        "      <td> 12972</td>\n",
        "      <td> 10321</td>\n",
        "      <td> ALMA_Calibration_Cone_survey_results_B3_3c446_...</td>\n",
        "      <td>2014-05-30 14:22:07.126827008</td>\n",
        "    </tr>\n",
        "    <tr>\n",
        "      <th>287</th>\n",
        "      <td>  3940</td>\n",
        "      <td> 0.100210</td>\n",
        "      <td> 12402</td>\n",
        "      <td>  3940</td>\n",
        "      <td> ALMA_CalSurveyResults_uid___A002_X7776f1_X13cb...</td>\n",
        "      <td>2014-05-30 14:21:50.443205120</td>\n",
        "    </tr>\n",
        "  </tbody>\n",
        "</table>\n",
        "</div>"
       ],
       "metadata": {},
       "output_type": "pyout",
       "prompt_number": 129,
       "text": [
        "     SOURCE_ID  distance  closest  check_id                                             ORIGIN                  DATE_CREATED\n",
        "269       2732  0.000000     2731      2732  ALMA_CalSurveyResults_uid___A002_X77b3a1_X9d6_... 2014-05-30 14:21:48.088102912\n",
        "36        3088  0.000000     3089      3088  ALMA_CalSurveyResults_uid___A002_X8b7acb_Xf68_... 2014-10-08 08:41:17.409329920\n",
        "32        7846  0.000000     7847      7846  ALMA_Calibration_Grid_survey_results_B3_2012-0... 2014-05-30 14:21:59.512609024\n",
        "443       1321  0.000000     1318      1321  ALMA_Calibration_Cone_survey_results_B7_J0238+... 2014-05-30 14:21:43.204284928\n",
        "233       5466  0.003074     5467      5466                        Cycle1_reduction_2014-05-08 2014-09-24 19:16:09.257131008\n",
        "10        5467  0.003074     5466      5467  ALMA_CalSurveyResults_uid___A002_X8a951a_X77_g... 2014-09-13 05:37:24.461071872\n",
        "53        8258  0.006873     8259      8258  ALMA_CalSurveyResults_uid___A002_X779b0a_X1d8e... 2014-05-30 14:22:00.897817088\n",
        "279        408  0.029320    12135       408  ALMA_CalSurveyResults_uid___A002_X77b3a1_X108_... 2014-05-30 14:21:40.579336960\n",
        "238       5753  0.061164    12559      5753  ALMA_CalSurveyResults_uid___A002_X779b0a_Xfa3_... 2014-05-30 14:21:53.539192064\n",
        "454      10321  0.071490    12972     10321  ALMA_Calibration_Cone_survey_results_B3_3c446_... 2014-05-30 14:22:07.126827008\n",
        "287       3940  0.100210    12402      3940  ALMA_CalSurveyResults_uid___A002_X7776f1_X13cb... 2014-05-30 14:21:50.443205120"
       ]
      }
     ],
     "prompt_number": 129
    }
   ],
   "metadata": {}
  }
 ]
}